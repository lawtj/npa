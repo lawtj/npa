{
 "cells": [
  {
   "cell_type": "code",
   "execution_count": 1,
   "metadata": {
    "scrolled": true
   },
   "outputs": [],
   "source": [
    "import matplotlib.pyplot as plt\n",
    "import numpy as np\n",
    "from ipywidgets import interact\n",
    "from ipywidgets.widgets import IntSlider, Dropdown\n",
    "plt.ion()"
   ]
  },
  {
   "cell_type": "code",
   "execution_count": 2,
   "metadata": {},
   "outputs": [],
   "source": [
    "years = [2018,2019,2020,2021,2022,2023,2024,2025,2026,2027,2028,2029,2030]\n",
    "elapsed = [0,1,2,3,4,5,6,7,8,9,10,11,12]\n",
    "population = [39041200, 40270997.8, 41539534.23, 42848029.56, 44197742.49, 45589971.38, 47026055.48, 48507376.22, 50035358.58, 51611472.37, 53237233.75, 54914206.61, 56644004.12]\n",
    "\n",
    "np_years = np.array(years)\n",
    "np_elapsed = np.array(elapsed)\n",
    "np_population = np.array(population)\n",
    "\n",
    "# initial variables\n",
    "phys_baseline = 84 # physicians at baseline\n",
    "aos_baseline = 540 # AOs at baseline"
   ]
  },
  {
   "cell_type": "code",
   "execution_count": 11,
   "metadata": {},
   "outputs": [
    {
     "data": {
      "application/vnd.jupyter.widget-view+json": {
       "model_id": "9de62ec1842d499d9bed5367dddc15df",
       "version_major": 2,
       "version_minor": 0
      },
      "text/html": [
       "<p>Failed to display Jupyter Widget of type <code>interactive</code>.</p>\n",
       "<p>\n",
       "  If you're reading this message in the Jupyter Notebook or JupyterLab Notebook, it may mean\n",
       "  that the widgets JavaScript is still loading. If this message persists, it\n",
       "  likely means that the widgets JavaScript library is either not installed or\n",
       "  not enabled. See the <a href=\"https://ipywidgets.readthedocs.io/en/stable/user_install.html\">Jupyter\n",
       "  Widgets Documentation</a> for setup instructions.\n",
       "</p>\n",
       "<p>\n",
       "  If you're reading this message in another frontend (for example, a static\n",
       "  rendering on GitHub or <a href=\"https://nbviewer.jupyter.org/\">NBViewer</a>),\n",
       "  it may mean that your frontend doesn't currently support widgets.\n",
       "</p>\n"
      ],
      "text/plain": [
       "interactive(children=(IntSlider(value=25, description='phys_grads', max=99), IntSlider(value=50, description='ao_grads', max=99), Output()), _dom_classes=('widget-interact',))"
      ]
     },
     "metadata": {},
     "output_type": "display_data"
    },
    {
     "data": {
      "text/plain": [
       "<function __main__.graph>"
      ]
     },
     "execution_count": 11,
     "metadata": {},
     "output_type": "execute_result"
    }
   ],
   "source": [
    "def graph(phys_grads, ao_grads):\n",
    "\n",
    "# modifiable and transition variables\n",
    "    #phys_grads = 15 #physician grads per year\n",
    "    #ao_grads = 25 #ao grads per year\n",
    "\n",
    "    # create vectors \n",
    "    target = (np_population/100000)*4 # goal noumber of providers based on population\n",
    "    phys = np.array(phys_baseline + (phys_grads*np_elapsed))\n",
    "    aos = np.array(aos_baseline + (ao_grads*np_elapsed))\n",
    "    total = phys+aos\n",
    "\n",
    "#######plots\n",
    "    print(\"Number of physicians entering workforce per year: \" + str(phys_grads))\n",
    "    plt.figure(figsize=(10, 5), dpi= 80)\n",
    "    plt.plot(years,target, label='Target')\n",
    "    plt.plot(years,aos, label='AOs')\n",
    "    plt.plot(years,phys, label='Physicians')\n",
    "    plt.plot(years,total, label='Total providers')\n",
    "    plt.legend(loc='upper left', bbox_to_anchor=(0,1.1), ncol=4)\n",
    "    plt.show()\n",
    "#plt.savefig('test.png')\n",
    "\n",
    "interact(graph, phys_grads=IntSlider(25, 0, 99), ao_grads=IntSlider(50, 0, 99))"
   ]
  },
  {
   "cell_type": "code",
   "execution_count": null,
   "metadata": {},
   "outputs": [],
   "source": []
  },
  {
   "cell_type": "code",
   "execution_count": null,
   "metadata": {},
   "outputs": [],
   "source": []
  },
  {
   "cell_type": "code",
   "execution_count": null,
   "metadata": {},
   "outputs": [],
   "source": []
  }
 ],
 "metadata": {
  "kernelspec": {
   "display_name": "Python 3",
   "language": "python",
   "name": "python3"
  },
  "language_info": {
   "codemirror_mode": {
    "name": "ipython",
    "version": 3
   },
   "file_extension": ".py",
   "mimetype": "text/x-python",
   "name": "python",
   "nbconvert_exporter": "python",
   "pygments_lexer": "ipython3",
   "version": "3.6.4"
  }
 },
 "nbformat": 4,
 "nbformat_minor": 2
}
